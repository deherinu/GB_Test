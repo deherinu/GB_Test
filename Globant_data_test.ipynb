{
  "nbformat": 4,
  "nbformat_minor": 0,
  "metadata": {
    "colab": {
      "provenance": []
    },
    "kernelspec": {
      "name": "python3",
      "display_name": "Python 3"
    },
    "language_info": {
      "name": "python"
    }
  },
  "cells": [
    {
      "cell_type": "code",
      "execution_count": null,
      "metadata": {
        "id": "t-iEPZGv0kyG"
      },
      "outputs": [],
      "source": [
        "import requests\n",
        "from io import StringIO\n",
        "import pandas as pd\n",
        "import sqlite3\n",
        "import logging\n",
        "from typing import Dict, Tuple"
      ]
    },
    {
      "cell_type": "code",
      "source": [
        "data = {\n",
        "  'hired_employees': {\n",
        "      'url': 'https://raw.githubusercontent.com/deherinu/GB_Test/main/data/hired_employees.csv',\n",
        "      'schema': {\n",
        "          'id': 'int64',\n",
        "          'name': 'object',\n",
        "          'datetime': 'object',\n",
        "          'department_id': 'float64',\n",
        "          'job_id': 'float64',\n",
        "      },\n",
        "  },\n",
        "  'jobs': {\n",
        "      'url': 'https://raw.githubusercontent.com/deherinu/GB_Test/main/data/jobs.csv',\n",
        "      'schema': {\n",
        "          'id': 'int64',\n",
        "          'job': 'object',\n",
        "      },\n",
        "  },\n",
        "  'departments': {\n",
        "      'url': 'https://raw.githubusercontent.com/deherinu/GB_Test/main/data/departments.csv',\n",
        "      'schema': {\n",
        "          'id': 'int64',\n",
        "          'department': 'object',\n",
        "      },\n",
        "  },\n",
        "  }"
      ],
      "metadata": {
        "id": "RvcWpscF006-"
      },
      "execution_count": null,
      "outputs": []
    },
    {
      "cell_type": "code",
      "source": [
        "def create_db(db_file: str) -> Tuple[sqlite3.Connection, sqlite3.Cursor]:\n",
        "  \"\"\"\n",
        "  Create a SQLite database and return a connection and cursor.\n",
        "  \"\"\"\n",
        "  conn = sqlite3.connect(db_file)\n",
        "  cursor = conn.cursor()\n",
        "  return conn, cursor"
      ],
      "metadata": {
        "id": "VKApUjXx03WZ"
      },
      "execution_count": null,
      "outputs": []
    },
    {
      "cell_type": "code",
      "source": [
        "def create_tables(conn: sqlite3.Connection, cursor: sqlite3.Cursor) -> None:\n",
        "  \"\"\"Create tables in the database if they do not exist.\"\"\"\n",
        "  tables = {\n",
        "      'employees': '''\n",
        "          CREATE TABLE IF NOT EXISTS employees (\n",
        "              id INTEGER PRIMARY KEY,\n",
        "              name TEXT NOT NULL,\n",
        "              datetime TEXT NOT NULL,\n",
        "              department_id INTEGER,\n",
        "              job_id INTEGER\n",
        "          )\n",
        "      ''',\n",
        "      'jobs': '''\n",
        "          CREATE TABLE IF NOT EXISTS jobs (\n",
        "              id INTEGER PRIMARY KEY,\n",
        "              job TEXT NOT NULL\n",
        "          )\n",
        "      ''',\n",
        "      'departments': '''\n",
        "          CREATE TABLE IF NOT EXISTS departments (\n",
        "              id INTEGER PRIMARY KEY,\n",
        "              department TEXT NOT NULL\n",
        "          )\n",
        "      '''\n",
        "  }\n",
        "\n",
        "  for table_name, sql in tables.items():\n",
        "      cursor.execute(sql)\n",
        "      print(f\"Table '{table_name}' created or already exists.\")\n",
        "\n",
        "  conn.commit()"
      ],
      "metadata": {
        "id": "naHH4fBw03Y8"
      },
      "execution_count": null,
      "outputs": []
    },
    {
      "cell_type": "code",
      "source": [
        "def get_data_to_df(data: str):\n",
        "  data_url = data.get('url')\n",
        "  response = requests.get(url = data_url)\n",
        "  if response.status_code == 200:\n",
        "    schema = data['schema']\n",
        "    header_names = schema.keys()\n",
        "    df = pd.read_csv(StringIO(response.text), names= header_names, header=None, dtype=schema)\n",
        "    logging.info(\"Data downloaded successfully\")\n",
        "    return df\n",
        "  else:\n",
        "    logging.error(f\"Error getting the data: {response.status_code} {response.reason}\")"
      ],
      "metadata": {
        "id": "xU-m6Ot703bk"
      },
      "execution_count": null,
      "outputs": []
    },
    {
      "cell_type": "code",
      "source": [
        "def read_and_insert_data_by_chunks(conn: sqlite3.Connection, cursor: sqlite3.Cursor, df: pd.DataFrame, table_name: str, chunksize: int) -> None:\n",
        "  \"\"\"Insert data into the database in chunks.\"\"\"\n",
        "  try:\n",
        "    df.to_sql(table_name, conn, if_exists='replace', index=False, chunksize=chunksize)\n",
        "    logging.info(f\"Data inserted into table '{table_name}' in chunks.\")\n",
        "  except Exception as e:\n",
        "    logging.error(f\"Error inserting data into table '{table_name}': {e}\")\n",
        "    raise"
      ],
      "metadata": {
        "id": "UMxWcw_a03ec"
      },
      "execution_count": null,
      "outputs": []
    },
    {
      "cell_type": "code",
      "source": [
        "def query_data(conn: sqlite3.Connection, cursor: sqlite3.Cursor) -> None:\n",
        "\n",
        "    '''\n",
        "      Number of employees hired for each job and department in 2021 divided by\n",
        "      quarter. The table must be ordered alphabetically by department and job.\n",
        "    '''\n",
        "    query1 = '''\n",
        "    SELECT\n",
        "        departments.department,\n",
        "        jobs.job,\n",
        "        SUM(CASE WHEN strftime('%m', employees.datetime) BETWEEN '01' AND '03' THEN 1 ELSE 0 END) AS Q1,\n",
        "        SUM(CASE WHEN strftime('%m', employees.datetime) BETWEEN '04' AND '06' THEN 1 ELSE 0 END) AS Q2,\n",
        "        SUM(CASE WHEN strftime('%m', employees.datetime) BETWEEN '07' AND '09' THEN 1 ELSE 0 END) AS Q3,\n",
        "        SUM(CASE WHEN strftime('%m', employees.datetime) BETWEEN '10' AND '12' THEN 1 ELSE 0 END) AS Q4\n",
        "    FROM employees\n",
        "    JOIN departments ON employees.department_id = departments.id\n",
        "    JOIN jobs ON employees.job_id = jobs.id\n",
        "    GROUP BY departments.department, jobs.job\n",
        "    ORDER BY departments.department, jobs.job\n",
        "    '''\n",
        "\n",
        "    '''\n",
        "      List of ids, name and number of employees hired of each department that hired more\n",
        "      employees than the mean of employees hired in 2021 for all the departments, ordered\n",
        "      by the number of employees hired (descending).\n",
        "    '''\n",
        "    query2 = '''\n",
        "    WITH hires AS (\n",
        "        SELECT\n",
        "            departments.id,\n",
        "            departments.department,\n",
        "            COUNT(employees.id) AS hired_employees\n",
        "        FROM employees\n",
        "        JOIN departments ON employees.department_id = departments.id\n",
        "        WHERE strftime('%Y', employees.datetime) = '2021'\n",
        "        GROUP BY departments.id, departments.department\n",
        "    ),\n",
        "    hires_mean AS (\n",
        "        SELECT AVG(hired_employees) AS mean_hired_employees\n",
        "        FROM hires\n",
        "    )\n",
        "    SELECT\n",
        "        hires.id,\n",
        "        hires.department,\n",
        "        hires.hired_employees\n",
        "    FROM hires\n",
        "    JOIN hires_mean\n",
        "    ON hires.hired_employees > hires_mean.mean_hired_employees\n",
        "    ORDER BY hires.hired_employees DESC\n",
        "    '''\n",
        "\n",
        "    try:\n",
        "        cursor.execute(query1)\n",
        "        results1 = cursor.fetchall()\n",
        "        print(\"Query 1 executed successfully.\")\n",
        "        for row in results1:\n",
        "            print(row)\n",
        "\n",
        "        cursor.execute(query2)\n",
        "        results2 = cursor.fetchall()\n",
        "        print(\"Query 2 executed successfully.\")\n",
        "        for row in results2:\n",
        "            print(row)\n",
        "\n",
        "    except Exception as e:\n",
        "        logging.error(f\"Error executing SQL queries: {e}\")\n",
        "        raise\n"
      ],
      "metadata": {
        "id": "ZqIJ3AEx1JT_"
      },
      "execution_count": null,
      "outputs": []
    },
    {
      "cell_type": "code",
      "source": [
        "def main() -> None:\n",
        "  try:\n",
        "    conn, cursor = create_db('globant_test_db')\n",
        "    create_tables(conn, cursor)\n",
        "    df_hired_employees = get_data_to_df(data['hired_employees'])\n",
        "    df_jobs = get_data_to_df(data['jobs'])\n",
        "    df_departments = get_data_to_df(data['departments'])\n",
        "\n",
        "    read_and_insert_data_by_chunks(conn, cursor, df_hired_employees, 'employees', 1000)\n",
        "    read_and_insert_data_by_chunks(conn, cursor, df_jobs, 'jobs', 1000)\n",
        "    read_and_insert_data_by_chunks(conn, cursor, df_departments, 'departments', 1000)\n",
        "\n",
        "    query_data(conn, cursor)\n",
        "\n",
        "  except Exception as e:\n",
        "    logging.error(f\"An unexpected error occurred: {e}\")"
      ],
      "metadata": {
        "id": "yr6oDoo41MUO"
      },
      "execution_count": null,
      "outputs": []
    },
    {
      "cell_type": "code",
      "source": [
        "if __name__ == \"__main__\":\n",
        "  main()"
      ],
      "metadata": {
        "id": "r6WkKrMc1MXO"
      },
      "execution_count": null,
      "outputs": []
    }
  ]
}